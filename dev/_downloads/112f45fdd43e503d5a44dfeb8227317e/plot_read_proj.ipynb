{
  "cells": [
    {
      "cell_type": "code",
      "execution_count": null,
      "metadata": {
        "collapsed": false
      },
      "outputs": [],
      "source": [
        "%matplotlib inline"
      ]
    },
    {
      "cell_type": "markdown",
      "metadata": {},
      "source": [
        "\n# Read and visualize projections (SSP and other)\n\nThis example shows how to read and visualize Signal Subspace Projectors (SSP)\nvector. Such projections are sometimes referred to as PCA projections.\n"
      ]
    },
    {
      "cell_type": "code",
      "execution_count": null,
      "metadata": {
        "collapsed": false
      },
      "outputs": [],
      "source": [
        "# Author: Joan Massich <mailsik@gmail.com>\n#\n# License: BSD (3-clause)\n\nimport matplotlib.pyplot as plt\n\nimport mne\nfrom mne import read_proj\nfrom mne.io import read_raw_fif\n\nfrom mne.datasets import sample\n\nprint(__doc__)\n\ndata_path = sample.data_path()\n\nsubjects_dir = data_path + '/subjects'\nfname = data_path + '/MEG/sample/sample_audvis_raw.fif'\necg_fname = data_path + '/MEG/sample/sample_audvis_ecg-proj.fif'"
      ]
    },
    {
      "cell_type": "markdown",
      "metadata": {},
      "source": [
        "Load the FIF file and display the projections present in the file. Here the\nprojections are added to the file during the acquisition and are obtained\nfrom empty room recordings.\n\n"
      ]
    },
    {
      "cell_type": "code",
      "execution_count": null,
      "metadata": {
        "collapsed": false
      },
      "outputs": [],
      "source": [
        "raw = read_raw_fif(fname)\nempty_room_proj = raw.info['projs']\n\n# Display the projections stored in `info['projs']` from the raw object\nraw.plot_projs_topomap()"
      ]
    },
    {
      "cell_type": "markdown",
      "metadata": {},
      "source": [
        "Display the projections one by one\n\n"
      ]
    },
    {
      "cell_type": "code",
      "execution_count": null,
      "metadata": {
        "collapsed": false
      },
      "outputs": [],
      "source": [
        "n_cols = len(empty_room_proj)\nfig, axes = plt.subplots(1, n_cols, figsize=(2 * n_cols, 2))\nfor proj, ax in zip(empty_room_proj, axes):\n    proj.plot_topomap(axes=ax, info=raw.info)"
      ]
    },
    {
      "cell_type": "markdown",
      "metadata": {},
      "source": [
        "Use the function in `mne.viz` to display a list of projections\n\n"
      ]
    },
    {
      "cell_type": "code",
      "execution_count": null,
      "metadata": {
        "collapsed": false
      },
      "outputs": [],
      "source": [
        "assert isinstance(empty_room_proj, list)\nmne.viz.plot_projs_topomap(empty_room_proj, info=raw.info)"
      ]
    },
    {
      "cell_type": "markdown",
      "metadata": {},
      "source": [
        ".. TODO: add this when the tutorial is up: \"As shown in the tutorial\n   :doc:`../auto_tutorials/preprocessing/plot_projectors`, ...\"\n\nThe ECG projections can be loaded from a file and added to the raw object\n\n"
      ]
    },
    {
      "cell_type": "code",
      "execution_count": null,
      "metadata": {
        "collapsed": false
      },
      "outputs": [],
      "source": [
        "# read the projections\necg_projs = read_proj(ecg_fname)\n\n# add them to raw and plot everything\nraw.add_proj(ecg_projs)\nraw.plot_projs_topomap()"
      ]
    }
  ],
  "metadata": {
    "kernelspec": {
      "display_name": "Python 3",
      "language": "python",
      "name": "python3"
    },
    "language_info": {
      "codemirror_mode": {
        "name": "ipython",
        "version": 3
      },
      "file_extension": ".py",
      "mimetype": "text/x-python",
      "name": "python",
      "nbconvert_exporter": "python",
      "pygments_lexer": "ipython3",
      "version": "3.8.5"
    }
  },
  "nbformat": 4,
  "nbformat_minor": 0
}