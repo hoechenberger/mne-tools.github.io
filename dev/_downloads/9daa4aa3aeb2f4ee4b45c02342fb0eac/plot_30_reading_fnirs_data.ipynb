{
  "cells": [
    {
      "cell_type": "code",
      "execution_count": null,
      "metadata": {
        "collapsed": false
      },
      "outputs": [],
      "source": [
        "%matplotlib inline"
      ]
    },
    {
      "cell_type": "markdown",
      "metadata": {},
      "source": [
        "\n\n# Importing data from fNIRS devices\n\nMNE includes various functions and utilities for reading NIRS\ndata and optode locations.\n   :depth: 2\n\n\n\n## NIRx (directory)\n\nNIRx recordings can be read in using :func:`mne.io.read_raw_nirx`.\nThe NIRx device stores data directly to a directory with multiple file types,\nMNE extracts the appropriate information from each file.\n\n\n\n## SNIRF (.snirf)\n\nData stored in the SNIRF format can be read in\nusing :func:`mne.io.read_raw_snirf`.\n\n<div class=\"alert alert-danger\"><h4>Warning</h4><p>The SNIRF format has provisions for many different types of NIRS\n             recordings. MNE currently only supports continuous wave data\n             stored in the .snirf format.</p></div>\n\n\n## Storing of optode locations\n\nNIRs devices consist of light sources and light detectors.\nA channel is formed by source-detector pairs.\nMNE stores the location of the channels, sources, and detectors.\n\n\n<div class=\"alert alert-danger\"><h4>Warning</h4><p>Information about device light wavelength is stored in\n             channel names. Manual modification of channel names is not\n             recommended.</p></div>\n"
      ]
    }
  ],
  "metadata": {
    "kernelspec": {
      "display_name": "Python 3",
      "language": "python",
      "name": "python3"
    },
    "language_info": {
      "codemirror_mode": {
        "name": "ipython",
        "version": 3
      },
      "file_extension": ".py",
      "mimetype": "text/x-python",
      "name": "python",
      "nbconvert_exporter": "python",
      "pygments_lexer": "ipython3",
      "version": "3.8.5"
    }
  },
  "nbformat": 4,
  "nbformat_minor": 0
}